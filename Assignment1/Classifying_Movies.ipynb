{
  "nbformat": 4,
  "nbformat_minor": 0,
  "metadata": {
    "colab": {
      "name": "Classifying_Movies.ipynb",
      "provenance": [],
      "authorship_tag": "ABX9TyOlX0uJCKXe89nIIBRWWSX9",
      "include_colab_link": true
    },
    "kernelspec": {
      "name": "python3",
      "display_name": "Python 3"
    }
  },
  "cells": [
    {
      "cell_type": "markdown",
      "metadata": {
        "id": "view-in-github",
        "colab_type": "text"
      },
      "source": [
        "<a href=\"https://colab.research.google.com/github/Slusser18/dslusser_MachineLearning/blob/main/Classifying_Movies.ipynb\" target=\"_parent\"><img src=\"https://colab.research.google.com/assets/colab-badge.svg\" alt=\"Open In Colab\"/></a>"
      ]
    },
    {
      "cell_type": "code",
      "metadata": {
        "colab": {
          "base_uri": "https://localhost:8080/"
        },
        "id": "xS3A8BhPBFbh",
        "outputId": "9d63afd1-2de1-4864-f44e-fd5775796dbb"
      },
      "source": [
        "## This is the first assignment\n",
        "## The goal is to classify movies based on reviews using the IMDB dataset\n",
        "## The learning objectives are \n",
        "  ## 1. Understand what we mean by deep learning\n",
        "  ## 2. Know the mathematical foundation and structure of neural networks\n",
        "\n",
        "## We first need to first load the packages\n",
        "## In python, import is the mode of importing packages\n",
        "import keras ## keras is a deep learning library within python. Interface for Tensor Flow\n",
        "## Import the different modules that will be utilized from the keras package\n",
        "from keras import models\n",
        "from keras import layers\n",
        "from keras import optimizers\n",
        "from keras import losses\n",
        "from keras import metrics\n",
        "import numpy as np ## numpy allows for working with numerical data\n",
        "import matplotlib.pyplot as plt ## matplotlib is way to generate graphics.  We will utilize this to compare validation loss and accuracy\n",
        "## Load in the data from keras package\n",
        "from keras.datasets import imdb\n",
        "(train_data, train_labels), (test_data, test_labels) = imdb.load_data(num_words=10000) # This keeps 10,000 most common words in training set"
      ],
      "execution_count": 29,
      "outputs": [
        {
          "output_type": "stream",
          "text": [
            "<string>:6: VisibleDeprecationWarning: Creating an ndarray from ragged nested sequences (which is a list-or-tuple of lists-or-tuples-or ndarrays with different lengths or shapes) is deprecated. If you meant to do this, you must specify 'dtype=object' when creating the ndarray\n",
            "/usr/local/lib/python3.6/dist-packages/tensorflow/python/keras/datasets/imdb.py:159: VisibleDeprecationWarning: Creating an ndarray from ragged nested sequences (which is a list-or-tuple of lists-or-tuples-or ndarrays with different lengths or shapes) is deprecated. If you meant to do this, you must specify 'dtype=object' when creating the ndarray\n",
            "  x_train, y_train = np.array(xs[:idx]), np.array(labels[:idx])\n",
            "/usr/local/lib/python3.6/dist-packages/tensorflow/python/keras/datasets/imdb.py:160: VisibleDeprecationWarning: Creating an ndarray from ragged nested sequences (which is a list-or-tuple of lists-or-tuples-or ndarrays with different lengths or shapes) is deprecated. If you meant to do this, you must specify 'dtype=object' when creating the ndarray\n",
            "  x_test, y_test = np.array(xs[idx:]), np.array(labels[idx:])\n"
          ],
          "name": "stderr"
        }
      ]
    },
    {
      "cell_type": "code",
      "metadata": {
        "id": "GZ8F6ldbD0_e"
      },
      "source": [
        "## We need to prepare the data\n",
        "## We will one-hot encode the data to turn into a sequence of 0's and 1's\n",
        "def vectorize_sequences(sequences, dimension=10000):\n",
        "    # Create an all-zero matrix of shape (len(sequences), dimension)\n",
        "    results = np.zeros((len(sequences), dimension))\n",
        "    for i, sequence in enumerate(sequences):\n",
        "        results[i, sequence] = 1.  # Set specific indices of results[i] to 1s\n",
        "    return results\n",
        "\n",
        "## Vectorize for efficiency\n",
        "x_train = vectorize_sequences(train_data) # Vectorized training data\n",
        "x_test = vectorize_sequences(test_data) # Vectorized test data\n",
        "y_train = np.asarray(train_labels).astype('float32') # Vectorized labels\n",
        "y_test = np.asarray(test_labels).astype('float32') # Vectorized labels"
      ],
      "execution_count": 30,
      "outputs": []
    },
    {
      "cell_type": "code",
      "metadata": {
        "id": "EmaOGVsaE0lo"
      },
      "source": [
        "## Generate the models that we will be using\n",
        "## We will also use 3 layers instead of 2\n",
        "## We will use 32 hidden layers compared to the example using 16\n",
        "## Instead of using relu like the example, we will use tanh\n",
        "model = models.Sequential()\n",
        "model.add(layers.Dense(32, activation='tanh', input_shape=(10000,)))\n",
        "model.add(layers.Dense(32, activation='tanh'))\n",
        "model.add(layers.Dense(32, activation='tanh'))\n",
        "model.add(layers.Dense(1, activation='sigmoid')) # Probability distribution so need a sigmoid activation function\n",
        "\n",
        "## Set up for our loss function and accuracy\n",
        "## Use the mean squared error (mse) for the loss function instead of binary_crossentropy\n",
        "model.compile(optimizer='rmsprop',\n",
        "              loss='mse',\n",
        "              metrics=['accuracy'])"
      ],
      "execution_count": 31,
      "outputs": []
    },
    {
      "cell_type": "code",
      "metadata": {
        "colab": {
          "base_uri": "https://localhost:8080/"
        },
        "id": "ncZS6Az6GcyQ",
        "outputId": "7f65eb74-751f-4fe4-bbe0-28c0853ee30a"
      },
      "source": [
        "## Validate the approach that was used\n",
        "## Create a validation set that is of 10,000 sample from original training\n",
        "x_val = x_train[:10000]\n",
        "partial_x_train = x_train[10000:]\n",
        "\n",
        "y_val = y_train[:10000]\n",
        "partial_y_train = y_train[10000:]\n",
        "\n",
        "## Train model on 20 epochs\n",
        "## 512 mini batch sizes\n",
        "history = model.fit(partial_x_train,\n",
        "                    partial_y_train,\n",
        "                    epochs = 20,\n",
        "                    batch_size = 512,\n",
        "                    validation_data=(x_val, y_val))"
      ],
      "execution_count": 32,
      "outputs": [
        {
          "output_type": "stream",
          "text": [
            "Epoch 1/20\n",
            "30/30 [==============================] - 2s 53ms/step - loss: 0.1934 - accuracy: 0.6921 - val_loss: 0.0911 - val_accuracy: 0.8845\n",
            "Epoch 2/20\n",
            "30/30 [==============================] - 1s 43ms/step - loss: 0.0739 - accuracy: 0.9076 - val_loss: 0.0891 - val_accuracy: 0.8795\n",
            "Epoch 3/20\n",
            "30/30 [==============================] - 1s 42ms/step - loss: 0.0489 - accuracy: 0.9363 - val_loss: 0.0864 - val_accuracy: 0.8858\n",
            "Epoch 4/20\n",
            "30/30 [==============================] - 1s 43ms/step - loss: 0.0358 - accuracy: 0.9566 - val_loss: 0.0938 - val_accuracy: 0.8779\n",
            "Epoch 5/20\n",
            "30/30 [==============================] - 1s 43ms/step - loss: 0.0297 - accuracy: 0.9642 - val_loss: 0.1029 - val_accuracy: 0.8711\n",
            "Epoch 6/20\n",
            "30/30 [==============================] - 1s 43ms/step - loss: 0.0240 - accuracy: 0.9715 - val_loss: 0.1091 - val_accuracy: 0.8660\n",
            "Epoch 7/20\n",
            "30/30 [==============================] - 1s 42ms/step - loss: 0.0220 - accuracy: 0.9741 - val_loss: 0.1038 - val_accuracy: 0.8756\n",
            "Epoch 8/20\n",
            "30/30 [==============================] - 1s 42ms/step - loss: 0.0176 - accuracy: 0.9803 - val_loss: 0.1581 - val_accuracy: 0.8170\n",
            "Epoch 9/20\n",
            "30/30 [==============================] - 1s 43ms/step - loss: 0.0186 - accuracy: 0.9784 - val_loss: 0.1082 - val_accuracy: 0.8741\n",
            "Epoch 10/20\n",
            "30/30 [==============================] - 1s 43ms/step - loss: 0.0116 - accuracy: 0.9877 - val_loss: 0.1095 - val_accuracy: 0.8735\n",
            "Epoch 11/20\n",
            "30/30 [==============================] - 1s 42ms/step - loss: 0.0104 - accuracy: 0.9887 - val_loss: 0.1101 - val_accuracy: 0.8749\n",
            "Epoch 12/20\n",
            "30/30 [==============================] - 1s 43ms/step - loss: 0.0072 - accuracy: 0.9930 - val_loss: 0.1130 - val_accuracy: 0.8736\n",
            "Epoch 13/20\n",
            "30/30 [==============================] - 1s 44ms/step - loss: 0.0088 - accuracy: 0.9909 - val_loss: 0.1151 - val_accuracy: 0.8723\n",
            "Epoch 14/20\n",
            "30/30 [==============================] - 1s 43ms/step - loss: 0.0091 - accuracy: 0.9907 - val_loss: 0.1154 - val_accuracy: 0.8718\n",
            "Epoch 15/20\n",
            "30/30 [==============================] - 1s 43ms/step - loss: 0.0075 - accuracy: 0.9925 - val_loss: 0.1244 - val_accuracy: 0.8638\n",
            "Epoch 16/20\n",
            "30/30 [==============================] - 1s 43ms/step - loss: 0.0100 - accuracy: 0.9885 - val_loss: 0.1307 - val_accuracy: 0.8565\n",
            "Epoch 17/20\n",
            "30/30 [==============================] - 1s 43ms/step - loss: 0.0087 - accuracy: 0.9913 - val_loss: 0.1200 - val_accuracy: 0.8667\n",
            "Epoch 18/20\n",
            "30/30 [==============================] - 1s 43ms/step - loss: 0.0072 - accuracy: 0.9926 - val_loss: 0.1197 - val_accuracy: 0.8669\n",
            "Epoch 19/20\n",
            "30/30 [==============================] - 1s 43ms/step - loss: 0.0062 - accuracy: 0.9938 - val_loss: 0.1200 - val_accuracy: 0.8668\n",
            "Epoch 20/20\n",
            "30/30 [==============================] - 1s 42ms/step - loss: 0.0114 - accuracy: 0.9876 - val_loss: 0.1186 - val_accuracy: 0.8706\n"
          ],
          "name": "stdout"
        }
      ]
    },
    {
      "cell_type": "code",
      "metadata": {
        "colab": {
          "base_uri": "https://localhost:8080/"
        },
        "id": "R8VgNnXtHD1a",
        "outputId": "0e3a867f-ea98-4dce-e0d9-f86cd3e49729"
      },
      "source": [
        "## Now get the history from the model fit\n",
        "## This allows us to understand what happened during training\n",
        "history_dict = history.history\n",
        "history_dict.keys()"
      ],
      "execution_count": 33,
      "outputs": [
        {
          "output_type": "execute_result",
          "data": {
            "text/plain": [
              "dict_keys(['loss', 'accuracy', 'val_loss', 'val_accuracy'])"
            ]
          },
          "metadata": {
            "tags": []
          },
          "execution_count": 33
        }
      ]
    },
    {
      "cell_type": "code",
      "metadata": {
        "id": "Z7KXkPWLIXVa"
      },
      "source": [
        "## We want to set up our plots to compare loss\n",
        "acc = history.history['accuracy'] # Accuracy\n",
        "val_acc = history.history['val_accuracy'] # Validation accuracy\n",
        "loss = history.history['loss'] # Loss \n",
        "val_loss = history.history['val_loss'] # Validation loss\n",
        "\n",
        "epochs = range(1, len(acc) + 1)"
      ],
      "execution_count": 40,
      "outputs": []
    },
    {
      "cell_type": "code",
      "metadata": {
        "colab": {
          "base_uri": "https://localhost:8080/",
          "height": 295
        },
        "id": "wrh0lGjeIaih",
        "outputId": "be53a133-bbb2-4738-b133-4e2f783282c6"
      },
      "source": [
        "## Plot the loss function\n",
        "plt.plot(epochs, loss, 'bo', label='Training loss') # \"bo\" is for \"blue dot\"\n",
        "plt.plot(epochs, val_loss, 'b', label='Validation loss') # b is for \"solid blue line\"\n",
        "plt.title('Training and validation loss')\n",
        "plt.xlabel('Epochs')\n",
        "plt.ylabel('Loss')\n",
        "plt.legend()\n",
        "\n",
        "plt.show()"
      ],
      "execution_count": 35,
      "outputs": [
        {
          "output_type": "display_data",
          "data": {
            "image/png": "[encoded data removed]",
            "text/plain": [
              "<Figure size 432x288 with 1 Axes>"
            ]
          },
          "metadata": {
            "tags": [],
            "needs_background": "light"
          }
        }
      ]
    },
    {
      "cell_type": "code",
      "metadata": {
        "colab": {
          "base_uri": "https://localhost:8080/",
          "height": 295
        },
        "id": "EPgsFynlHl0V",
        "outputId": "ea173386-0baa-4ac6-cf5e-e6955ed19429"
      },
      "source": [
        "## We now want to look at the accuracy of the model\n",
        "## Clear the figure first\n",
        "plt.clf()\n",
        "\n",
        "## Define the values\n",
        "acc_values = history_dict['accuracy'] # accuracy values\n",
        "val_acc_values = history_dict['val_accuracy'] # Validation accuracy value\n",
        "\n",
        "## Plot the accuracy data\n",
        "plt.plot(epochs, acc, 'bo', label='Training accuracy')\n",
        "plt.plot(epochs, val_acc, 'b', label='Validation accuracy')\n",
        "plt.title('Training and validation accuracy')\n",
        "plt.xlabel('Epochs')\n",
        "plt.ylabel('Loss')\n",
        "plt.legend()\n",
        "\n",
        "plt.show()"
      ],
      "execution_count": 41,
      "outputs": [
        {
          "output_type": "display_data",
          "data": {
            "image/png": "[encoded data removed]",
            "text/plain": [
              "<Figure size 432x288 with 1 Axes>"
            ]
          },
          "metadata": {
            "tags": [],
            "needs_background": "light"
          }
        }
      ]
    },
    {
      "cell_type": "markdown",
      "metadata": {
        "id": "HZIFVva-MjKv"
      },
      "source": [
        "The training loss decreases with every epoch and the mean-squared error is decreasing with every epoch (thus the error is being reduced and the model is more accurate on the training data with each epoch).  However, weh looking at the validation loss and validation accuracy, the ideal number is three epochs.  When using the relu activation function on 2 layers, 16 units and the tanh activation function, the ideal number of epochs was four."
      ]
    },
    {
      "cell_type": "code",
      "metadata": {
        "colab": {
          "base_uri": "https://localhost:8080/"
        },
        "id": "YwJIBQHINkLC",
        "outputId": "5fc557ea-90df-4ba2-da71-91f45e0a4007"
      },
      "source": [
        "## Train the data on three epochs\n",
        "model = models.Sequential()\n",
        "model.add(layers.Dense(32, activation='tanh', input_shape=(10000,)))\n",
        "model.add(layers.Dense(32, activation='tanh'))\n",
        "model.add(layers.Dense(32, activation='tanh'))\n",
        "model.add(layers.Dense(1, activation='sigmoid'))\n",
        "\n",
        "model.compile(optimizer='rmsprop',\n",
        "              loss='mse',\n",
        "              metrics=['accuracy'])\n",
        "\n",
        "model.fit(x_train, y_train, epochs=3, batch_size=512)\n",
        "results = model.evaluate(x_test, y_test)\n",
        "\n",
        "## Get the results\n",
        "results"
      ],
      "execution_count": 25,
      "outputs": [
        {
          "output_type": "stream",
          "text": [
            "Epoch 1/3\n",
            "49/49 [==============================] - 2s 35ms/step - loss: 0.1696 - accuracy: 0.7432\n",
            "Epoch 2/3\n",
            "49/49 [==============================] - 2s 36ms/step - loss: 0.0684 - accuracy: 0.9100\n",
            "Epoch 3/3\n",
            "49/49 [==============================] - 2s 35ms/step - loss: 0.0520 - accuracy: 0.9337\n",
            "782/782 [==============================] - 2s 2ms/step - loss: 0.0910 - accuracy: 0.8795\n"
          ],
          "name": "stdout"
        },
        {
          "output_type": "execute_result",
          "data": {
            "text/plain": [
              "[0.09100087732076645, 0.8794800043106079]"
            ]
          },
          "metadata": {
            "tags": []
          },
          "execution_count": 25
        }
      ]
    },
    {
      "cell_type": "markdown",
      "metadata": {
        "id": "aq3xkUnLOJsZ"
      },
      "source": [
        "This appraoch is 87.9 percent accurate, which is about the same as the approach from the example (88.5 percent) but is not quite as good as an approach.  Thus, let's now examine with 64 hidden units and 1 layer"
      ]
    },
    {
      "cell_type": "code",
      "metadata": {
        "colab": {
          "base_uri": "https://localhost:8080/",
          "height": 295
        },
        "id": "3w5rt1xSPj9P",
        "outputId": "1b7056c5-d30d-4ce3-c2f2-3b1e29d4068c"
      },
      "source": [
        "## Use one layer and 64 hidden units\n",
        "model = models.Sequential()\n",
        "model.add(layers.Dense(64, activation='tanh', input_shape=(10000,)))\n",
        "model.add(layers.Dense(1, activation='sigmoid'))\n",
        "\n",
        "model.compile(optimizer='rmsprop',\n",
        "              loss='mse',\n",
        "              metrics=['accuracy'])\n",
        "\n",
        "## Plot the loss function\n",
        "plt.plot(epochs, loss, 'bo', label='Training loss') # \"bo\" is for \"blue dot\"\n",
        "plt.plot(epochs, val_loss, 'b', label='Validation loss') # b is for \"solid blue line\"\n",
        "plt.title('Training and validation loss')\n",
        "plt.xlabel('Epochs')\n",
        "plt.ylabel('Loss')\n",
        "plt.legend()\n",
        "\n",
        "plt.show()"
      ],
      "execution_count": 26,
      "outputs": [
        {
          "output_type": "display_data",
          "data": {
            "image/png": "[encoded data removed]",
            "text/plain": [
              "<Figure size 432x288 with 1 Axes>"
            ]
          },
          "metadata": {
            "tags": [],
            "needs_background": "light"
          }
        }
      ]
    },
    {
      "cell_type": "code",
      "metadata": {
        "colab": {
          "base_uri": "https://localhost:8080/",
          "height": 295
        },
        "id": "VxsS7f5lP1GO",
        "outputId": "594bc6c8-c3cd-42eb-fdfc-a4522df8266c"
      },
      "source": [
        "## We now want to look at the accuracy of the model\n",
        "## Clear the figure first\n",
        "plt.clf()\n",
        "\n",
        "## Define the values\n",
        "acc_values = history_dict['accuracy'] # Accuracy values\n",
        "val_acc_values = history_dict['val_accuracy'] # Validation Accuracy value\n",
        "\n",
        "## Plot the accuracy data\n",
        "plt.plot(epochs, acc, 'bo', label='Training acc')\n",
        "plt.plot(epochs, val_acc, 'b', label='Validation acc')\n",
        "plt.title('Training and validation acc')\n",
        "plt.xlabel('Epochs')\n",
        "plt.ylabel('Loss')\n",
        "plt.legend()\n",
        "\n",
        "plt.show()"
      ],
      "execution_count": 42,
      "outputs": [
        {
          "output_type": "display_data",
          "data": {
            "image/png": "[encoded data removed]",
            "text/plain": [
              "<Figure size 432x288 with 1 Axes>"
            ]
          },
          "metadata": {
            "tags": [],
            "needs_background": "light"
          }
        }
      ]
    },
    {
      "cell_type": "code",
      "metadata": {
        "colab": {
          "base_uri": "https://localhost:8080/"
        },
        "id": "-jUWFThmP2OQ",
        "outputId": "6da76896-89b0-4904-dfc9-6dc59f7a2463"
      },
      "source": [
        "model.fit(x_train, y_train, epochs=3, batch_size=512)\n",
        "results = model.evaluate(x_test, y_test)\n",
        "\n",
        "## Get the results\n",
        "results"
      ],
      "execution_count": 28,
      "outputs": [
        {
          "output_type": "stream",
          "text": [
            "Epoch 1/3\n",
            "49/49 [==============================] - 3s 47ms/step - loss: 0.1821 - accuracy: 0.7381\n",
            "Epoch 2/3\n",
            "49/49 [==============================] - 2s 48ms/step - loss: 0.0695 - accuracy: 0.9180\n",
            "Epoch 3/3\n",
            "49/49 [==============================] - 2s 48ms/step - loss: 0.0542 - accuracy: 0.9331\n",
            "782/782 [==============================] - 3s 3ms/step - loss: 0.0863 - accuracy: 0.8836\n"
          ],
          "name": "stdout"
        },
        {
          "output_type": "execute_result",
          "data": {
            "text/plain": [
              "[0.08633718639612198, 0.8836399912834167]"
            ]
          },
          "metadata": {
            "tags": []
          },
          "execution_count": 28
        }
      ]
    },
    {
      "cell_type": "markdown",
      "metadata": {
        "id": "xRqOM51RQKm0"
      },
      "source": [
        "This improved the accuracy of the model to an accuracy of 88.4 percent and is almost identical to the example. However, we could better improve performance on the validation, and thus obtaining a better model overall.  We will use regularization on the data."
      ]
    },
    {
      "cell_type": "code",
      "metadata": {
        "colab": {
          "base_uri": "https://localhost:8080/"
        },
        "id": "rIICsmqJRxLv",
        "outputId": "2f00af21-7d12-4f4c-8e22-27e7bbaed418"
      },
      "source": [
        "## Load in the data from keras package\n",
        "from keras.datasets import imdb\n",
        "(train_data, train_labels), (test_data, test_labels) = imdb.load_data(num_words=10000) # This keeps 10,000 most common words in training set\n",
        "## We need to prepare the data\n",
        "## We will one-hot encode the data to turn into a sequence of 0's and 1's\n",
        "def vectorize_sequences(sequences, dimension=10000):\n",
        "    # Create an all-zero matrix of shape (len(sequences), dimension)\n",
        "    results = np.zeros((len(sequences), dimension))\n",
        "    for i, sequence in enumerate(sequences):\n",
        "        results[i, sequence] = 1.  # Set specific indices of results[i] to 1s\n",
        "    return results\n",
        "\n",
        "## Vectorize for efficiency\n",
        "x_train = vectorize_sequences(train_data) # Vectorized training data\n",
        "x_test = vectorize_sequences(test_data) # Vectorized test data\n",
        "y_train = np.asarray(train_labels).astype('float32') # Vectorized labels\n",
        "y_test = np.asarray(test_labels).astype('float32') # Vectorized labels\n",
        "\n",
        "## Generate the models that we will be using\n",
        "## We will also use 3 layers instead of 2\n",
        "## We will use 32 hidden layers compared to the example using 16\n",
        "## Instead of using relu like the example, we will use tanh\n",
        "model = keras.Sequential([\n",
        "  layers.Dense(16, activation = 'tanh'),\n",
        "  layers.Dropout(0.5), # Dropout function\n",
        "  layers.Dense(1, activation='sigmoid')\n",
        "  ])\n",
        "\n",
        "## Set up for our loss function and accuracy\n",
        "## Use the mean squared error (mse) for the loss function instead of binary_crossentropy\n",
        "model.compile(optimizer='rmsprop',\n",
        "              loss='mse',\n",
        "              metrics=['accuracy'])\n",
        "\n",
        "## Validate the approach that was used\n",
        "## Create a validation set that is of 10,000 sample from original training\n",
        "x_val = x_train[:10000]\n",
        "partial_x_train = x_train[10000:]\n",
        "\n",
        "y_val = y_train[:10000]\n",
        "partial_y_train = y_train[10000:]\n",
        "\n",
        "## Train model on 20 epochs\n",
        "## 512 mini batch sizes\n",
        "history = model.fit(partial_x_train,\n",
        "                    partial_y_train,\n",
        "                    epochs = 20,\n",
        "                    batch_size = 512,\n",
        "                    validation_data=(x_val, y_val))\n"
      ],
      "execution_count": 50,
      "outputs": [
        {
          "output_type": "stream",
          "text": [
            "<string>:6: VisibleDeprecationWarning: Creating an ndarray from ragged nested sequences (which is a list-or-tuple of lists-or-tuples-or ndarrays with different lengths or shapes) is deprecated. If you meant to do this, you must specify 'dtype=object' when creating the ndarray\n",
            "/usr/local/lib/python3.6/dist-packages/tensorflow/python/keras/datasets/imdb.py:159: VisibleDeprecationWarning: Creating an ndarray from ragged nested sequences (which is a list-or-tuple of lists-or-tuples-or ndarrays with different lengths or shapes) is deprecated. If you meant to do this, you must specify 'dtype=object' when creating the ndarray\n",
            "  x_train, y_train = np.array(xs[:idx]), np.array(labels[:idx])\n",
            "/usr/local/lib/python3.6/dist-packages/tensorflow/python/keras/datasets/imdb.py:160: VisibleDeprecationWarning: Creating an ndarray from ragged nested sequences (which is a list-or-tuple of lists-or-tuples-or ndarrays with different lengths or shapes) is deprecated. If you meant to do this, you must specify 'dtype=object' when creating the ndarray\n",
            "  x_test, y_test = np.array(xs[idx:]), np.array(labels[idx:])\n"
          ],
          "name": "stderr"
        },
        {
          "output_type": "stream",
          "text": [
            "Epoch 1/20\n",
            "30/30 [==============================] - 2s 46ms/step - loss: 0.2001 - accuracy: 0.7098 - val_loss: 0.1267 - val_accuracy: 0.8677\n",
            "Epoch 2/20\n",
            "30/30 [==============================] - 1s 36ms/step - loss: 0.1132 - accuracy: 0.8896 - val_loss: 0.1016 - val_accuracy: 0.8838\n",
            "Epoch 3/20\n",
            "30/30 [==============================] - 1s 37ms/step - loss: 0.0856 - accuracy: 0.9167 - val_loss: 0.0914 - val_accuracy: 0.8862\n",
            "Epoch 4/20\n",
            "30/30 [==============================] - 1s 36ms/step - loss: 0.0688 - accuracy: 0.9354 - val_loss: 0.0856 - val_accuracy: 0.8870\n",
            "Epoch 5/20\n",
            "30/30 [==============================] - 1s 36ms/step - loss: 0.0593 - accuracy: 0.9405 - val_loss: 0.0825 - val_accuracy: 0.8942\n",
            "Epoch 6/20\n",
            "30/30 [==============================] - 1s 36ms/step - loss: 0.0509 - accuracy: 0.9508 - val_loss: 0.0809 - val_accuracy: 0.8926\n",
            "Epoch 7/20\n",
            "30/30 [==============================] - 1s 37ms/step - loss: 0.0435 - accuracy: 0.9573 - val_loss: 0.0813 - val_accuracy: 0.8886\n",
            "Epoch 8/20\n",
            "30/30 [==============================] - 1s 37ms/step - loss: 0.0390 - accuracy: 0.9626 - val_loss: 0.0834 - val_accuracy: 0.8851\n",
            "Epoch 9/20\n",
            "30/30 [==============================] - 1s 36ms/step - loss: 0.0353 - accuracy: 0.9676 - val_loss: 0.0818 - val_accuracy: 0.8873\n",
            "Epoch 10/20\n",
            "30/30 [==============================] - 1s 37ms/step - loss: 0.0328 - accuracy: 0.9694 - val_loss: 0.0826 - val_accuracy: 0.8880\n",
            "Epoch 11/20\n",
            "30/30 [==============================] - 1s 36ms/step - loss: 0.0283 - accuracy: 0.9739 - val_loss: 0.0838 - val_accuracy: 0.8844\n",
            "Epoch 12/20\n",
            "30/30 [==============================] - 1s 36ms/step - loss: 0.0254 - accuracy: 0.9785 - val_loss: 0.0850 - val_accuracy: 0.8861\n",
            "Epoch 13/20\n",
            "30/30 [==============================] - 1s 37ms/step - loss: 0.0226 - accuracy: 0.9799 - val_loss: 0.0872 - val_accuracy: 0.8843\n",
            "Epoch 14/20\n",
            "30/30 [==============================] - 1s 37ms/step - loss: 0.0215 - accuracy: 0.9813 - val_loss: 0.0879 - val_accuracy: 0.8814\n",
            "Epoch 15/20\n",
            "30/30 [==============================] - 1s 36ms/step - loss: 0.0185 - accuracy: 0.9852 - val_loss: 0.0913 - val_accuracy: 0.8780\n",
            "Epoch 16/20\n",
            "30/30 [==============================] - 1s 36ms/step - loss: 0.0186 - accuracy: 0.9850 - val_loss: 0.0930 - val_accuracy: 0.8770\n",
            "Epoch 17/20\n",
            "30/30 [==============================] - 2s 54ms/step - loss: 0.0170 - accuracy: 0.9847 - val_loss: 0.0925 - val_accuracy: 0.8803\n",
            "Epoch 18/20\n",
            "30/30 [==============================] - 2s 83ms/step - loss: 0.0147 - accuracy: 0.9881 - val_loss: 0.0942 - val_accuracy: 0.8799\n",
            "Epoch 19/20\n",
            "30/30 [==============================] - 1s 37ms/step - loss: 0.0138 - accuracy: 0.9881 - val_loss: 0.0954 - val_accuracy: 0.8775\n",
            "Epoch 20/20\n",
            "30/30 [==============================] - 1s 36ms/step - loss: 0.0120 - accuracy: 0.9904 - val_loss: 0.0969 - val_accuracy: 0.8773\n"
          ],
          "name": "stdout"
        }
      ]
    },
    {
      "cell_type": "code",
      "metadata": {
        "colab": {
          "base_uri": "https://localhost:8080/",
          "height": 295
        },
        "id": "2_li0SfiVpMd",
        "outputId": "ee0a3e23-38df-4573-b6cc-2eac19ecc1f4"
      },
      "source": [
        "## We want to set up our plots to compare loss\n",
        "acc = history.history['accuracy'] # Accuracy\n",
        "val_acc = history.history['val_accuracy'] # Validation accuracy\n",
        "loss = history.history['loss'] # Loss \n",
        "val_loss = history.history['val_loss'] # Validation loss\n",
        "\n",
        "epochs = range(1, len(acc) + 1)\n",
        "\n",
        "## Plot the loss function\n",
        "plt.plot(epochs, loss, 'bo', label='Training loss') # \"bo\" is for \"blue dot\"\n",
        "plt.plot(epochs, val_loss, 'b', label='Validation loss') # b is for \"solid blue line\"\n",
        "plt.title('Training and validation loss')\n",
        "plt.xlabel('Epochs')\n",
        "plt.ylabel('Loss')\n",
        "plt.legend()\n",
        "\n",
        "plt.show()"
      ],
      "execution_count": 52,
      "outputs": [
        {
          "output_type": "display_data",
          "data": {
            "image/png": "[encoded data removed]",
            "text/plain": [
              "<Figure size 432x288 with 1 Axes>"
            ]
          },
          "metadata": {
            "tags": [],
            "needs_background": "light"
          }
        }
      ]
    },
    {
      "cell_type": "code",
      "metadata": {
        "colab": {
          "base_uri": "https://localhost:8080/",
          "height": 295
        },
        "id": "FC0RkKhWV1Bu",
        "outputId": "7e8d3d31-953a-4bcb-d48d-786f837c9b63"
      },
      "source": [
        "## We now want to look at the accuracy of the model\n",
        "## Clear the figure first\n",
        "plt.clf()\n",
        "\n",
        "## Define the values\n",
        "acc_values = history_dict['accuracy'] # Accuracy values\n",
        "val_acc_values = history_dict['val_accuracy'] # Validation Accuracy value\n",
        "\n",
        "## Plot the accuracy data\n",
        "plt.plot(epochs, acc, 'bo', label='Training acc')\n",
        "plt.plot(epochs, val_acc, 'b', label='Validation acc')\n",
        "plt.title('Training and validation acc')\n",
        "plt.xlabel('Epochs')\n",
        "plt.ylabel('Loss')\n",
        "plt.legend()\n",
        "\n",
        "plt.show()"
      ],
      "execution_count": 56,
      "outputs": [
        {
          "output_type": "display_data",
          "data": {
            "image/png": "[encoded data removed]",
            "text/plain": [
              "<Figure size 432x288 with 1 Axes>"
            ]
          },
          "metadata": {
            "tags": [],
            "needs_background": "light"
          }
        }
      ]
    },
    {
      "cell_type": "markdown",
      "metadata": {
        "id": "F6zlzLHMXfvV"
      },
      "source": [
        "The loss is minimized around 6 epochs and accuracy maximized around 6 epochs.  So now run the model on 6 epochs.  The accuracy has been improved with the dropout.  With the dropout, accuracy in validation is 89.42 percent compared to 88.58 percent without this.\n",
        "\n"
      ]
    },
    {
      "cell_type": "code",
      "metadata": {
        "colab": {
          "base_uri": "https://localhost:8080/"
        },
        "id": "p-RgqxfWYEt-",
        "outputId": "6ae5e465-e5a2-4eef-ae8c-b3f71e3e5573"
      },
      "source": [
        "## See how model performs with 6 epochs\n",
        "model.fit(x_train, y_train, epochs=6, batch_size=512)\n",
        "results = model.evaluate(x_test, y_test)\n",
        "\n",
        "## Get the results\n",
        "results"
      ],
      "execution_count": 57,
      "outputs": [
        {
          "output_type": "stream",
          "text": [
            "Epoch 1/6\n",
            "49/49 [==============================] - 1s 28ms/step - loss: 0.0458 - accuracy: 0.9453\n",
            "Epoch 2/6\n",
            "49/49 [==============================] - 1s 28ms/step - loss: 0.0396 - accuracy: 0.9544\n",
            "Epoch 3/6\n",
            "49/49 [==============================] - 1s 29ms/step - loss: 0.0353 - accuracy: 0.9598\n",
            "Epoch 4/6\n",
            "49/49 [==============================] - 1s 29ms/step - loss: 0.0321 - accuracy: 0.9644\n",
            "Epoch 5/6\n",
            "49/49 [==============================] - 1s 28ms/step - loss: 0.0296 - accuracy: 0.9677\n",
            "Epoch 6/6\n",
            "49/49 [==============================] - 1s 28ms/step - loss: 0.0277 - accuracy: 0.9704\n",
            "782/782 [==============================] - 1s 2ms/step - loss: 0.1073 - accuracy: 0.8666\n"
          ],
          "name": "stdout"
        },
        {
          "output_type": "execute_result",
          "data": {
            "text/plain": [
              "[0.10733341425657272, 0.8665599822998047]"
            ]
          },
          "metadata": {
            "tags": []
          },
          "execution_count": 57
        }
      ]
    },
    {
      "cell_type": "markdown",
      "metadata": {
        "id": "8kENzM9GYLnf"
      },
      "source": [
        "The overall accuracy of this model decreases to 86.66 percent, which is the worst when comparing the example, 32 hidden units on 3 layers and 64 hidden units on one layer."
      ]
    },
    {
      "cell_type": "code",
      "metadata": {
        "colab": {
          "base_uri": "https://localhost:8080/"
        },
        "id": "9eN08HpgZZRr",
        "outputId": "4e7e9f30-2a52-43e1-b044-7df9b6a40645"
      },
      "source": [
        "## Predict the results\n",
        "model.predict(x_test)\n"
      ],
      "execution_count": 58,
      "outputs": [
        {
          "output_type": "execute_result",
          "data": {
            "text/plain": [
              "array([[0.00834277],\n",
              "       [0.9999962 ],\n",
              "       [0.60460377],\n",
              "       ...,\n",
              "       [0.08699313],\n",
              "       [0.01290932],\n",
              "       [0.4216945 ]], dtype=float32)"
            ]
          },
          "metadata": {
            "tags": []
          },
          "execution_count": 58
        }
      ]
    },
    {
      "cell_type": "markdown",
      "metadata": {
        "id": "lJIMeFDaZjOS"
      },
      "source": [
        "The model has confidence in predicting some of the outputs but not all of the movies."
      ]
    }
  ]
}
